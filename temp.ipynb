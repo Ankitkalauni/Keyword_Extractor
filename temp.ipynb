{
 "cells": [
  {
   "cell_type": "code",
   "execution_count": 11,
   "metadata": {},
   "outputs": [],
   "source": [
    "text = \"ankit   kalauni\"\n",
    "import re\n",
    "\n",
    "with open(\"./stopwords.txt\",'r') as useless_words:\n",
    "        lis = useless_words.read().split(\"\\n\")\n",
    "\n",
    "        lis = lis + ['hi', 'im']    \n",
    "\n",
    "        text_filtered = [word for word in text.split() if not word in lis]\n",
    "\n",
    "# Remove numbers\n",
    "# text_filtered = [re.sub(r'\\w*\\d\\w*', '', w) for w in text_filtered]"
   ]
  },
  {
   "cell_type": "code",
   "execution_count": 38,
   "metadata": {},
   "outputs": [],
   "source": [
    "with open(\"./userdata.txt\",'r') as useless_words:\n",
    "        text = useless_words.read()"
   ]
  },
  {
   "cell_type": "code",
   "execution_count": 40,
   "metadata": {},
   "outputs": [],
   "source": [
    "# Make lower\n",
    "text = text.lower()\n",
    "\n",
    "# Remove line breaks\n",
    "text = re.sub(r'\\n', '', text)\n",
    "# Remove line breaks\n",
    "text = re.sub(r'\\t', '', text)\n",
    "\n",
    "text = re.sub(\"[^A-Za-z0-9\\s]+\",\"\", text)\n",
    "\n",
    "text = text.split()\n",
    "\n",
    "with open(\"./stopwords.txt\",'r') as useless_words:\n",
    "    lis = useless_words.read().split(\"\\n\")\n",
    "\n",
    "    lis = lis + ['hi', 'im']    \n",
    "\n",
    "    text_filtered = [word for word in text if not word in lis]"
   ]
  },
  {
   "cell_type": "code",
   "execution_count": 50,
   "metadata": {},
   "outputs": [
    {
     "ename": "SyntaxError",
     "evalue": "invalid syntax (1385577686.py, line 2)",
     "output_type": "error",
     "traceback": [
      "\u001b[1;36m  Input \u001b[1;32mIn [50]\u001b[1;36m\u001b[0m\n\u001b[1;33m    **val = tup\u001b[0m\n\u001b[1;37m    ^\u001b[0m\n\u001b[1;31mSyntaxError\u001b[0m\u001b[1;31m:\u001b[0m invalid syntax\n"
     ]
    }
   ],
   "source": [
    "tup = (1,2,3,4,3)\n",
    "**val = tup\n",
    "print()"
   ]
  },
  {
   "cell_type": "code",
   "execution_count": 35,
   "metadata": {},
   "outputs": [],
   "source": [
    "data = re.sub(\"[^A-Za-z0-9\\s]+\",\"\", data)"
   ]
  },
  {
   "cell_type": "code",
   "execution_count": 37,
   "metadata": {},
   "outputs": [
    {
     "data": {
      "text/plain": [
       "'ankit kalauni mumbai 401208 91 9325106150 ankitkalauni86gmailcom data science enthusiast my courses certificationhighly creative and versatile student learning every day from the experience gained from the past works currently pursuing bscit along with machine learning deep learning where i do data analysis by visualization and build the models to predict outcomes of the future highly active learner and practice skills on kaggle websites by participating in competitionseducation 2022 kishinchand chellaram mumbai bachelor of science in information technology cgpa 914selfstudy python c cpp and sql networking and security intro al ml presentation communication data structures algorithms ml dl hackathons business intelligence project development lifecycle deep learning specialization mathematical stats foundation computer fundamentals2019 kpb hinduja mumbai higher secondary education commerce stream score 78002017 sheth vidya mandir mumbai secondary school education score 8680skills programming sw packages visualization othersproficient python sql excel sklearn pandas numpy powerbi matplotlib git oopsintermediate cpp html nosql tensorflow d3 plotly bash awsproject my courses certification2021 6th place tabular playground series sep 2021 hackathonkaggle competition tabular data binary classification auc python xgboost lgbm catboost blendingmy first kaggle competition learned about crossvalidation techniques pipeline data transformation blending stacking and secret recipe for auc evalmetric2021 forest cover type predictionmachine learning python scikitlearn tensorflowa kaggle competition predictions of the predominant kind of tree cover from strictly cartographic variables suchas elevation and soil type using random forests svms knns naive bayes gradient descent gmms 2021 neural nets with kerashandson machine learning capstone keras tensorflow python matplotlibvanishingexploding gradients problem xavier and he initialization reusing pretrained layers nonsaturatingactivation functions sequential functional and subclass keras models'"
      ]
     },
     "execution_count": 37,
     "metadata": {},
     "output_type": "execute_result"
    }
   ],
   "source": [
    "\" \".join(data.split())"
   ]
  },
  {
   "cell_type": "code",
   "execution_count": null,
   "metadata": {},
   "outputs": [],
   "source": []
  }
 ],
 "metadata": {
  "interpreter": {
   "hash": "f3d087facbc94b07878e7e4e8273db77b4bb17482e7d25b3d2c96e3f0dddd3cb"
  },
  "kernelspec": {
   "display_name": "Python 3.9.7 ('study-OwW1UW_H')",
   "language": "python",
   "name": "python3"
  },
  "language_info": {
   "codemirror_mode": {
    "name": "ipython",
    "version": 3
   },
   "file_extension": ".py",
   "mimetype": "text/x-python",
   "name": "python",
   "nbconvert_exporter": "python",
   "pygments_lexer": "ipython3",
   "version": "3.9.7"
  },
  "orig_nbformat": 4
 },
 "nbformat": 4,
 "nbformat_minor": 2
}
